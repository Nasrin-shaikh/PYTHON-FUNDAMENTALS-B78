{
 "cells": [
  {
   "cell_type": "code",
   "execution_count": 1,
   "id": "9b4beda4",
   "metadata": {},
   "outputs": [],
   "source": [
    "a=10\n",
    "b=15"
   ]
  },
  {
   "cell_type": "code",
   "execution_count": 2,
   "id": "c2541690",
   "metadata": {},
   "outputs": [],
   "source": [
    "sum=a+b\n",
    "sub=b-a\n",
    "mul=a*b"
   ]
  },
  {
   "cell_type": "code",
   "execution_count": 3,
   "id": "ead460f7",
   "metadata": {},
   "outputs": [
    {
     "name": "stdout",
     "output_type": "stream",
     "text": [
      "25\n"
     ]
    }
   ],
   "source": [
    "print(sum)\n"
   ]
  },
  {
   "cell_type": "code",
   "execution_count": 4,
   "id": "a1306ae2",
   "metadata": {},
   "outputs": [
    {
     "name": "stdout",
     "output_type": "stream",
     "text": [
      "5\n"
     ]
    }
   ],
   "source": [
    "print(sub)"
   ]
  },
  {
   "cell_type": "code",
   "execution_count": 5,
   "id": "b49586ca",
   "metadata": {},
   "outputs": [
    {
     "name": "stdout",
     "output_type": "stream",
     "text": [
      "150\n"
     ]
    }
   ],
   "source": [
    "print(mul)"
   ]
  },
  {
   "cell_type": "code",
   "execution_count": 6,
   "id": "8c05832a",
   "metadata": {},
   "outputs": [],
   "source": [
    "a=5\n",
    "b=5"
   ]
  },
  {
   "cell_type": "code",
   "execution_count": 7,
   "id": "67368b9f",
   "metadata": {},
   "outputs": [],
   "source": [
    "identity=a*a+b*b"
   ]
  },
  {
   "cell_type": "code",
   "execution_count": 8,
   "id": "5cec23c2",
   "metadata": {},
   "outputs": [
    {
     "name": "stdout",
     "output_type": "stream",
     "text": [
      "50\n"
     ]
    }
   ],
   "source": [
    "print(identity)"
   ]
  },
  {
   "cell_type": "code",
   "execution_count": 17,
   "id": "e61cdef6",
   "metadata": {},
   "outputs": [],
   "source": [
    "firstname=\"nasrin bano\"\n",
    "middlename=\"salim\"\n",
    "lastname=\"shaikh\""
   ]
  },
  {
   "cell_type": "code",
   "execution_count": 20,
   "id": "63e3b8ab",
   "metadata": {},
   "outputs": [
    {
     "name": "stdout",
     "output_type": "stream",
     "text": [
      "nasrin bano\n"
     ]
    }
   ],
   "source": [
    "print(firstname)\n",
    "#print(middlename)\n",
    "#print(lastname)"
   ]
  },
  {
   "cell_type": "code",
   "execution_count": 21,
   "id": "ee016c49",
   "metadata": {},
   "outputs": [
    {
     "name": "stdout",
     "output_type": "stream",
     "text": [
      "salim\n"
     ]
    }
   ],
   "source": [
    "#print(firstname)\n",
    "print(middlename)\n",
    "#print(lastname)"
   ]
  },
  {
   "cell_type": "code",
   "execution_count": 22,
   "id": "582807ef",
   "metadata": {},
   "outputs": [
    {
     "name": "stdout",
     "output_type": "stream",
     "text": [
      "shaikh\n"
     ]
    }
   ],
   "source": [
    "#print(firstname)\n",
    "#print(middlename)\n",
    "print(lastname)"
   ]
  },
  {
   "cell_type": "code",
   "execution_count": 23,
   "id": "e9eb2838",
   "metadata": {},
   "outputs": [],
   "source": [
    "name=\"nasrin bano salim shailh\""
   ]
  },
  {
   "cell_type": "code",
   "execution_count": 24,
   "id": "6ffe65b9",
   "metadata": {},
   "outputs": [
    {
     "name": "stdout",
     "output_type": "stream",
     "text": [
      "nasrin bano salim shailh\n"
     ]
    }
   ],
   "source": [
    "print(name)"
   ]
  },
  {
   "cell_type": "code",
   "execution_count": 25,
   "id": "d4b31c85",
   "metadata": {},
   "outputs": [
    {
     "data": {
      "text/plain": [
       "str"
      ]
     },
     "execution_count": 25,
     "metadata": {},
     "output_type": "execute_result"
    }
   ],
   "source": [
    "type(name)"
   ]
  },
  {
   "cell_type": "code",
   "execution_count": 27,
   "id": "9ba771db",
   "metadata": {},
   "outputs": [
    {
     "name": "stdout",
     "output_type": "stream",
     "text": [
      "Nasrin Bano Salim Shailh\n"
     ]
    }
   ],
   "source": [
    "print(name.title())"
   ]
  },
  {
   "cell_type": "code",
   "execution_count": 28,
   "id": "ae09f2bb",
   "metadata": {},
   "outputs": [
    {
     "name": "stdout",
     "output_type": "stream",
     "text": [
      "NASRIN BANO SALIM SHAILH\n"
     ]
    }
   ],
   "source": [
    "print(name.upper())"
   ]
  },
  {
   "cell_type": "code",
   "execution_count": 30,
   "id": "f9e208f3",
   "metadata": {},
   "outputs": [
    {
     "name": "stdout",
     "output_type": "stream",
     "text": [
      "nasrin bano salim shailh\n"
     ]
    }
   ],
   "source": [
    "print(name.lower())"
   ]
  },
  {
   "cell_type": "code",
   "execution_count": null,
   "id": "2ed3c4b5",
   "metadata": {},
   "outputs": [],
   "source": []
  }
 ],
 "metadata": {
  "kernelspec": {
   "display_name": "Python 3 (ipykernel)",
   "language": "python",
   "name": "python3"
  },
  "language_info": {
   "codemirror_mode": {
    "name": "ipython",
    "version": 3
   },
   "file_extension": ".py",
   "mimetype": "text/x-python",
   "name": "python",
   "nbconvert_exporter": "python",
   "pygments_lexer": "ipython3",
   "version": "3.10.9"
  }
 },
 "nbformat": 4,
 "nbformat_minor": 5
}
